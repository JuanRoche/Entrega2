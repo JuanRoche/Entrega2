{
 "cells": [
  {
   "cell_type": "code",
   "execution_count": 1,
   "metadata": {},
   "outputs": [],
   "source": [
    "import calculadora\n",
    "\n",
    "names = \"\"\" Agustin, Yanina, Andrés, Ariadna, Bautista, CAROLINA,\n",
    "CESAR, David, Diego, Dolores, DYLAN, ELIANA, Emanuel, Fabián, Noelia,\n",
    "Francsica', FEDERICO, Fernanda, GONZALO, Nancy \"\"\"\n",
    "goals = [0, 10, 4, 0, 5, 14, 0, 0, 7, 2, 1, 1, 1, 5, 6, 1, 1, 2, 0,\n",
    "11]\n",
    "goals_avoided = [0, 2, 0, 0, 5, 2, 0, 0, 1, 2, 0, 5, 5, 0, 1, 0, 2,\n",
    "3, 0, 0]\n",
    "assists = [0, 5, 1, 0, 5, 2, 0, 0, 1, 2, 1, 5, 5, 0, 1, 0, 2, 3, 1,\n",
    "0]"
   ]
  },
  {
   "cell_type": "markdown",
   "metadata": {},
   "source": [
    "1-\n",
    "\n",
    "Invoco del modulo calculadora generate_dic, que crea un diccionario vacio, itera sobre todos los elementos de las listas dadas, creando listas con las estadisticas y asignadolas como valor de los nombres. Resultando asi una estructura de tipo diccionario con nombres como claves y listas con goles, goles evitados y asistencias (en ese orden) como valores."
   ]
  },
  {
   "cell_type": "code",
   "execution_count": 2,
   "metadata": {},
   "outputs": [
    {
     "name": "stdout",
     "output_type": "stream",
     "text": [
      "{'Agustin': [0, 0, 0], 'Yanina': [10, 2, 5], 'Andrés': [4, 0, 1], 'Ariadna': [0, 0, 0], 'Bautista': [5, 5, 5], 'CAROLINA': [14, 2, 2], 'CESAR': [0, 0, 0], 'David': [0, 0, 0], 'Diego': [7, 1, 1], 'Dolores': [2, 2, 2], 'DYLAN': [1, 0, 1], 'ELIANA': [1, 5, 5], 'Emanuel': [1, 5, 5], 'Fabián': [5, 0, 0], 'Noelia': [6, 1, 1], \"Francsica'\": [1, 0, 0], 'FEDERICO': [1, 2, 2], 'Fernanda': [2, 3, 3], 'GONZALO': [0, 0, 1], 'Nancy': [11, 0, 0]}\n"
     ]
    }
   ],
   "source": [
    "dic = calculadora.generate_dic(names, goals, goals_avoided, assists)\n",
    "\n",
    "print(dic)"
   ]
  },
  {
   "cell_type": "markdown",
   "metadata": {},
   "source": [
    "2-\n",
    "\n",
    "Invoco a la funcion maxscorer que recorre la estructura comparando con un maximo y se queda con el nombre y la cantidad de goles del goleador."
   ]
  },
  {
   "cell_type": "code",
   "execution_count": 3,
   "metadata": {},
   "outputs": [
    {
     "name": "stdout",
     "output_type": "stream",
     "text": [
      "('CAROLINA', 14)\n"
     ]
    }
   ],
   "source": [
    "goleador = calculadora.maxscorer(dic)\n",
    "\n",
    "print(goleador)"
   ]
  },
  {
   "cell_type": "markdown",
   "metadata": {},
   "source": [
    "3-\n",
    "    \n",
    "Creo una tabla de valores e invoco al modulo most_influential con esa tabla como parametro y el diccionario. Lo que hace el modulo es recorrer la estructura de jugadores calculando los puntos de cada jugador, para eso accede a cada jugador y a cada elemento de la lista para obtener las estadisticas, multiplica eso por el valor de la tabla y si es el jugador con mas puntos se guarda el nombre y sus puntos.\n"
   ]
  },
  {
   "cell_type": "code",
   "execution_count": 4,
   "metadata": {},
   "outputs": [
    {
     "name": "stdout",
     "output_type": "stream",
     "text": [
      "('CAROLINA', 25.5)\n"
     ]
    }
   ],
   "source": [
    "values = {\"goals\": 1.5 , \"goals_avoided\": 1.25 , \"assists\": 1}\n",
    "\n",
    "most_influential = calculadora.most_influential(dic,values)\n",
    "\n",
    "print(most_influential)"
   ]
  },
  {
   "cell_type": "markdown",
   "metadata": {},
   "source": [
    "4-\n",
    "\n",
    "invoco a goals_average que recorre la estructura contando todos los goles del equipo y devuelve esa cantidad dividida en los partidos jugados, obteniendo el promedio de goles por partido de la temporada."
   ]
  },
  {
   "cell_type": "code",
   "execution_count": 5,
   "metadata": {},
   "outputs": [
    {
     "name": "stdout",
     "output_type": "stream",
     "text": [
      "2.84\n"
     ]
    }
   ],
   "source": [
    "matches_played = 25\n",
    "\n",
    "goals_average = calculadora.goals_average(dic,matches_played)\n",
    "\n",
    "print(goals_average)"
   ]
  },
  {
   "cell_type": "markdown",
   "metadata": {},
   "source": [
    "5-\n",
    "\n",
    "Invoco a la funcion maxscorer_average con la estructua y la cantidad de partidos de la temporada como parametro. La funcion invoca a la funcion maxscorer del punto 2 para acceder a los goles del goleador y devolver esa cantidad dividido la cantidad de partidos para obtener el promedio de gol por partido del goleador."
   ]
  },
  {
   "cell_type": "code",
   "execution_count": 6,
   "metadata": {},
   "outputs": [
    {
     "name": "stdout",
     "output_type": "stream",
     "text": [
      "0.56\n"
     ]
    }
   ],
   "source": [
    "max_scorer_average = calculadora.maxscorer_average(dic,matches_played)\n",
    "\n",
    "print(max_scorer_average)"
   ]
  }
 ],
 "metadata": {
  "kernelspec": {
   "display_name": "venv",
   "language": "python",
   "name": "python3"
  },
  "language_info": {
   "codemirror_mode": {
    "name": "ipython",
    "version": 3
   },
   "file_extension": ".py",
   "mimetype": "text/x-python",
   "name": "python",
   "nbconvert_exporter": "python",
   "pygments_lexer": "ipython3",
   "version": "3.11.2"
  }
 },
 "nbformat": 4,
 "nbformat_minor": 2
}
